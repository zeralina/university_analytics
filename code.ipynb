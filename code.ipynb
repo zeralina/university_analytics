{
 "cells": [
  {
   "cell_type": "code",
   "execution_count": 4,
   "id": "a27724b2-7768-4dcc-a670-4bedee25a68e",
   "metadata": {},
   "outputs": [
    {
     "name": "stderr",
     "output_type": "stream",
     "text": [
      "C:\\Users\\zeral\\AppData\\Local\\Temp\\ipykernel_13436\\1760099704.py:16: FutureWarning: Setting an item of incompatible dtype is deprecated and will raise an error in a future version of pandas. Value '20965' has dtype incompatible with int64, please explicitly cast to a compatible dtype first.\n",
      "  df.loc[i,'No of student_int']= df.loc[i,'No of student'].replace(',','')\n"
     ]
    },
    {
     "name": "stdout",
     "output_type": "stream",
     "text": [
      "Mean of all estimates: 57.55\n",
      "Average rating of teaching quality: 37.35\n",
      "Average number of employees: 1114\n",
      "Number of unique countries: 18\n"
     ]
    }
   ],
   "source": [
    "import math\n",
    "import numpy as np\n",
    "import pandas as pd\n",
    "df=pd.read_excel(r'data.xlsx')\n",
    "\n",
    "# Let's make the number of international students float\n",
    "df['international_student_rate']=df['International Student'].apply(lambda x:str(x)[:-1])\n",
    "df['international_student_rate']=df['international_student_rate'].astype('float')/100\n",
    "\n",
    "# Let's find the share of female students\n",
    "df['female_rate']=df['Female:Male Ratio'].apply(lambda x:x[:2]).astype('float')/100\n",
    "\n",
    "# Let's find the number of female students\n",
    "df['No of student_int']=0\n",
    "for i in range(len(df)):\n",
    "    df.loc[i,'No of student_int']= df.loc[i,'No of student'].replace(',','')\n",
    "\n",
    "df['No of student_int']=df['No of student_int'].astype('int')\n",
    "df['count_female']=(df['No of student_int']*df['female_rate'])\n",
    "df['count_female']=df['count_female'].apply(lambda x:math.ceil(x))\n",
    "\n",
    "# Let's find the number of employees\n",
    "df['count_staff']=df['No of student_int']/df['No of student per staff']\n",
    "df['count_staff']=df['count_staff'].apply(lambda x:math.ceil(x))\n",
    "\n",
    "# Let's announce a function\n",
    "def filter_f(inter_perc,count_total,female_filter):\n",
    "    df_cut=df.query('international_student_rate>@inter_perc and `No of student_int`>@count_total and count_female>@female_filter')\n",
    "    pre=[np.mean(df_cut['Teaching Score']),np.mean(df_cut['Research Score']),\n",
    "                                       np.mean(df_cut['Citations Score']),np.mean(df_cut['Industry Income Score']),\n",
    "                                       np.mean(df_cut['International Outlook Score'])]\n",
    "    print('Mean of all estimates:', round(np.mean(pre),2))\n",
    "    print('Average rating of teaching quality:', round(np.mean(df_cut['Teaching Score']),2))\n",
    "    print('Average number of employees:', math.ceil(np.mean(df_cut['count_staff'])))\n",
    "    print('Number of unique countries:', len(set(df_cut['Location'])))\n",
    "\n",
    "# Let's run the function\n",
    "filter_f(0.3,3000,1500)"
   ]
  }
 ],
 "metadata": {
  "kernelspec": {
   "display_name": "Python 3 (ipykernel)",
   "language": "python",
   "name": "python3"
  },
  "language_info": {
   "codemirror_mode": {
    "name": "ipython",
    "version": 3
   },
   "file_extension": ".py",
   "mimetype": "text/x-python",
   "name": "python",
   "nbconvert_exporter": "python",
   "pygments_lexer": "ipython3",
   "version": "3.12.4"
  }
 },
 "nbformat": 4,
 "nbformat_minor": 5
}
